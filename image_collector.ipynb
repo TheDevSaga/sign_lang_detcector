{
 "cells": [
  {
   "cell_type": "code",
   "execution_count": 1,
   "id": "0cadf7f2",
   "metadata": {},
   "outputs": [],
   "source": [
    "import cv2\n",
    "import os\n",
    "import time\n",
    "import uuid"
   ]
  },
  {
   "cell_type": "code",
   "execution_count": 2,
   "id": "eb6caf10",
   "metadata": {},
   "outputs": [],
   "source": [
    "IMAGES_PATH = \"Tensorflow/workspace/images/collectedimages\""
   ]
  },
  {
   "cell_type": "code",
   "execution_count": 3,
   "id": "0583adbd",
   "metadata": {},
   "outputs": [],
   "source": [
    "labels = [\"hello\",\"thanks\",\"yes\",\"no\",\"iloveyou\"]\n",
    "img_nums = 15"
   ]
  },
  {
   "cell_type": "code",
   "execution_count": 5,
   "id": "3eec9ce6",
   "metadata": {},
   "outputs": [
    {
     "name": "stdout",
     "output_type": "stream",
     "text": [
      "Collecting imges for hello\n",
      "Collecting imges for thanks\n",
      "Collecting imges for yes\n"
     ]
    },
    {
     "name": "stderr",
     "output_type": "stream",
     "text": [
      "2023-01-03 12:31:28.362 python[70867:3924105] IMKClient Stall detected, *please Report* your user scenario attaching a spindump (or sysdiagnose) that captures the problem - (imkxpc_bundleIdentifierWithReply:) block performed very slowly (1.08 secs).\n"
     ]
    },
    {
     "name": "stdout",
     "output_type": "stream",
     "text": [
      "Collecting imges for no\n",
      "Collecting imges for iloveyou\n"
     ]
    }
   ],
   "source": [
    "for label in labels:\n",
    "    !mkdir -p {'Tensorflow/workspace/images/collectedimages//'+label}\n",
    "    cap = cv2.VideoCapture(0)\n",
    "    print(\"Collecting imges for {}\".format(label))\n",
    "    time.sleep(5)\n",
    "    for num in range(img_nums):\n",
    "        ret, frame = cap.read()\n",
    "        img_name = os.path.join('Tensorflow/workspace/images/collectedimages//'+label,'{}.jpg'.format(str(uuid.uuid1())))\n",
    "        cv2.imwrite(img_name,frame)\n",
    "        cv2.imshow('frame',frame)\n",
    "        time.sleep(1)\n",
    "        \n",
    "        if(cv2.waitKey(1) & 0xFF ==ord('q')):\n",
    "            break\n",
    "    cap.release()        "
   ]
  },
  {
   "cell_type": "code",
   "execution_count": 6,
   "id": "7c550056",
   "metadata": {},
   "outputs": [],
   "source": [
    "cap = cv2.VideoCapture(0)\n",
    "cap.release()"
   ]
  },
  {
   "cell_type": "code",
   "execution_count": null,
   "id": "62e2d99b",
   "metadata": {},
   "outputs": [],
   "source": []
  }
 ],
 "metadata": {
  "kernelspec": {
   "display_name": "Python  (tensorflow)",
   "language": "python",
   "name": "tensorflow"
  },
  "language_info": {
   "codemirror_mode": {
    "name": "ipython",
    "version": 3
   },
   "file_extension": ".py",
   "mimetype": "text/x-python",
   "name": "python",
   "nbconvert_exporter": "python",
   "pygments_lexer": "ipython3",
   "version": "3.9.15"
  }
 },
 "nbformat": 4,
 "nbformat_minor": 5
}
