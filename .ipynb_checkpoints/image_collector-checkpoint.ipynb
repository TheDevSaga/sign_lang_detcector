{
 "cells": [
  {
   "cell_type": "code",
   "execution_count": 2,
   "id": "98e86eda",
   "metadata": {},
   "outputs": [],
   "source": [
    "import cv2\n",
    "import os\n",
    "import time\n",
    "import uuid"
   ]
  },
  {
   "cell_type": "code",
   "execution_count": 3,
   "id": "e4a23737",
   "metadata": {},
   "outputs": [],
   "source": [
    "IMAGES_PATH = \"Tensorflow/workspace/images/collectedimages\""
   ]
  },
  {
   "cell_type": "code",
   "execution_count": 6,
   "id": "5e1298a6",
   "metadata": {},
   "outputs": [],
   "source": [
    "labels = [\"hello\",\"thanks\",\"yes\",\"no\",\"iloveyou\"]\n",
    "img_nums = 15"
   ]
  },
  {
   "cell_type": "code",
   "execution_count": 19,
   "id": "65ab7760",
   "metadata": {},
   "outputs": [],
   "source": [
    "for label in labels:\n",
    "    !mkdir -p {'Tensorflow/workspace/images/collectedimages//'+label}\n",
    "    cap = cv2.VideoCapture(0)\n",
    "    print(\"Collecting imges for {}\".format(label))\n",
    "    time.sleep(5)\n",
    "    for num in img_nums:\n",
    "        ret, frame = cap.read()\n",
    "        img_name = os.path.join(IMAGES_PATH,label,+'{}.jpg'.format(str(uuid.uuid())))\n",
    "        cv2.imwrite(img_name,frame)\n",
    "        cv2.imshow(label,frame)\n",
    "        time.sleep(2)\n",
    "        \n",
    "        if(cv2.waitKey(1) && 0xFF ==ord('q')):\n",
    "            break\n",
    "    cap.release()        "
   ]
  },
  {
   "cell_type": "code",
   "execution_count": null,
   "id": "9b2949e6",
   "metadata": {},
   "outputs": [],
   "source": []
  },
  {
   "cell_type": "code",
   "execution_count": null,
   "id": "7048c9ca",
   "metadata": {},
   "outputs": [],
   "source": []
  }
 ],
 "metadata": {
  "kernelspec": {
   "display_name": "Python  (tensorflow)",
   "language": "python",
   "name": "tensorflow"
  },
  "language_info": {
   "codemirror_mode": {
    "name": "ipython",
    "version": 3
   },
   "file_extension": ".py",
   "mimetype": "text/x-python",
   "name": "python",
   "nbconvert_exporter": "python",
   "pygments_lexer": "ipython3",
   "version": "3.9.15"
  }
 },
 "nbformat": 4,
 "nbformat_minor": 5
}
